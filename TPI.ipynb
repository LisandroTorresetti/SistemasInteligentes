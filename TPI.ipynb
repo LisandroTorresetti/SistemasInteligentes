{
 "cells": [
  {
   "cell_type": "markdown",
   "metadata": {},
   "source": [
    "# Trabajo Práctico Integrador - Sistemas Inteligentes\n",
    "\n",
    "## Alumnos:\n",
    "\n",
    "+ Azul Zaietz - 102214\n",
    "+ Lisandro Torresetti - 99846"
   ]
  },
  {
   "cell_type": "markdown",
   "metadata": {},
   "source": [
    "### Dataset\n",
    "\n",
    "El [Dataset](https://www.kaggle.com/datasets/teejmahal20/airline-passenger-satisfaction) contiene información sobre la satisfacción de los pasajeros de aerolíneas estadounidenses.\n",
    "\n",
    "### Atributos\n",
    "\n",
    "+ Gender: Gender of the passengers (Female, Male)\n",
    "\n",
    "\n",
    "+ Customer Type: The customer type (Loyal customer, disloyal customer)\n",
    "\n",
    "\n",
    "+ Age: The actual age of the passengers\n",
    "\n",
    "\n",
    "+ Type of Travel: Purpose of the flight of the passengers (Personal Travel, Business Travel)\n",
    "\n",
    "\n",
    "+ Class: Travel class in the plane of the passengers (Business, Eco, Eco Plus)\n",
    "\n",
    "\n",
    "+ Flight distance: The flight distance of this journey\n",
    "\n",
    "\n",
    "+ Inflight wifi service: Satisfaction level of the inflight wifi service (0:Not Applicable;1-5)\n",
    "\n",
    "\n",
    "+ Departure/Arrival time convenient: Satisfaction level of Departure/Arrival time convenient\n",
    "\n",
    "\n",
    "+ Ease of Online booking: Satisfaction level of online booking\n",
    "\n",
    "\n",
    "+ Gate location: Satisfaction level of Gate location\n",
    "\n",
    "\n",
    "+ Food and drink: Satisfaction level of Food and drink\n",
    "\n",
    "\n",
    "+ Online boarding: Satisfaction level of online boarding\n",
    "\n",
    "\n",
    "+ Seat comfort: Satisfaction level of Seat comfort\n",
    "\n",
    "\n",
    "+ Inflight entertainment: Satisfaction level of inflight entertainment\n",
    "\n",
    "\n",
    "+ On-board service: Satisfaction level of On-board service\n",
    "\n",
    "\n",
    "+ Leg room service: Satisfaction level of Leg room service\n",
    "\n",
    "\n",
    "+ Baggage handling: Satisfaction level of baggage handling\n",
    "\n",
    "\n",
    "+ Check-in service: Satisfaction level of Check-in service\n",
    "\n",
    "\n",
    "+ Inflight service: Satisfaction level of inflight service\n",
    "\n",
    "\n",
    "+ Cleanliness: Satisfaction level of Cleanliness\n",
    "\n",
    "\n",
    "+ Departure Delay in Minutes: Minutes delayed when departure\n",
    "\n",
    "\n",
    "+ Arrival Delay in Minutes: Minutes delayed when Arrival\n",
    "\n",
    "\n",
    "+ Satisfaction: Airline satisfaction level(Satisfaction, neutral or dissatisfaction)\n"
   ]
  },
  {
   "cell_type": "code",
   "execution_count": null,
   "metadata": {},
   "outputs": [],
   "source": [
    "import pandas as pd\n",
    "import numpy as np\n",
    "import seaborn as sns\n",
    "import matplotlib.pyplot as plt\n",
    "%matplotlib inline\n",
    "sns.set_style(style=\"darkgrid\")"
   ]
  },
  {
   "cell_type": "code",
   "execution_count": null,
   "metadata": {},
   "outputs": [],
   "source": [
    "# Constants\n",
    "SHORT_FLIGHTS = 1000\n",
    "LONG_FLIGHTS = 2000\n",
    "SHORT_TAG = 'short'\n",
    "MEDIUM_TAG = 'medium'\n",
    "LONG_TAG = 'long'\n",
    "\n",
    "YOUNG_ADULT = 30\n",
    "YOUNG_ADULT_TAG = 'youngAdult'\n",
    "ADULT = 45\n",
    "ADULT_TAG = 'adult'\n",
    "SENIOR_TAG = 'senior'\n",
    "SATISFIED = 'satisfied'"
   ]
  },
  {
   "cell_type": "code",
   "execution_count": null,
   "metadata": {},
   "outputs": [],
   "source": [
    "# Auxiliar functions\n",
    "def getFlightDistanceTag(distance):\n",
    "    if distance < SHORT_FLIGHTS:\n",
    "        return SHORT_TAG\n",
    "    if SHORT_FLIGHTS <= distance and distance < LONG_FLIGHTS:\n",
    "        return MEDIUM_TAG\n",
    "    return LONG_TAG\n",
    "\n",
    "def getAgeTags(age):\n",
    "    if age < YOUNG_ADULT:\n",
    "        return YOUNG_ADULT_TAG\n",
    "    if YOUNG_ADULT <= age and age < ADULT:\n",
    "        return ADULT_TAG\n",
    "    return SENIOR_TAG\n",
    "\n",
    "def getSatisfactionAsIntFromTag(satisfaction):\n",
    "    return int(satisfaction == SATISFIED)\n",
    "\n",
    "def plotHistogram(dataFrame, column, bins=60, xlim=None, figSize=(16, 4)):\n",
    "    f, ax = plt.subplots(figsize=figSize)\n",
    "    ax = sns.histplot(dataFrame[column], bins=bins, color='darkorange', ax=ax)\n",
    "    if not xlim is None:\n",
    "        ax.set_xlim(xlim[0], xlim[1])\n",
    "    ax.set_title(f\"{column} histogram\", fontsize = 15);\n",
    "\n",
    "satisfactionAsInt = lambda value: int(np.round(value))"
   ]
  },
  {
   "cell_type": "code",
   "execution_count": null,
   "metadata": {},
   "outputs": [],
   "source": [
    "flightsDf = pd.read_csv('./dataset/train.csv', encoding='utf-8')\n",
    "flightsDf "
   ]
  },
  {
   "cell_type": "code",
   "execution_count": null,
   "metadata": {},
   "outputs": [],
   "source": [
    "# The first two columns are gonna be removed because they dont have valuable information\n",
    "flightsDf = flightsDf.drop(flightsDf.columns[[0, 1]], axis = 1)"
   ]
  },
  {
   "cell_type": "code",
   "execution_count": null,
   "metadata": {},
   "outputs": [],
   "source": [
    "flightsDf.info()"
   ]
  },
  {
   "cell_type": "code",
   "execution_count": null,
   "metadata": {},
   "outputs": [],
   "source": [
    "# Checking for NaNs\n",
    "for column in flightsDf.columns.values:\n",
    "    print(f\"{column}: {flightsDf[column].isnull().sum()}\")"
   ]
  },
  {
   "cell_type": "code",
   "execution_count": null,
   "metadata": {},
   "outputs": [],
   "source": [
    "# Removing rows with NaN in 'Arrival Delay in Minutes'\n",
    "flightsDf = flightsDf[flightsDf['Arrival Delay in Minutes'].notnull()]\n",
    "\n",
    "# Departure Delay in Minutes and Arrival Delay in Minutes should have the same data type\n",
    "flightsDf['Arrival Delay in Minutes'] = flightsDf['Arrival Delay in Minutes'].astype(np.int64)"
   ]
  },
  {
   "cell_type": "code",
   "execution_count": null,
   "metadata": {
    "scrolled": true
   },
   "outputs": [],
   "source": [
    "for column in flightsDf.columns.values:\n",
    "    if flightsDf[column].dtype == object:\n",
    "        continue\n",
    "    mean = np.round(np.mean(flightsDf[column]), 4)\n",
    "    stdDesv = np.round(np.std(flightsDf[column]), 4)\n",
    "    minValue, maxValue = min(flightsDf[column]), max(flightsDf[column])\n",
    "    print(f\"Column: {column} \\n Min Value: {minValue}\\n Max Value: {maxValue} \\n Mean: {mean} \\n Std: {stdDesv}\\n\")"
   ]
  },
  {
   "cell_type": "markdown",
   "metadata": {},
   "source": [
    "## Age and Type of Travel\n",
    "\n",
    "Vamos a analizar la cantidad de pasajeros de edad menor o igual a 10 años que realizan viajes de negocios."
   ]
  },
  {
   "cell_type": "code",
   "execution_count": null,
   "metadata": {},
   "outputs": [],
   "source": [
    "lessThan10 = flightsDf[flightsDf['Age'] <= 10]\n",
    "lessThan10[lessThan10['Type of Travel'] == 'Business travel']"
   ]
  },
  {
   "cell_type": "markdown",
   "metadata": {},
   "source": [
    "Dado que un viaje de negocio es un viaje con fines laborales o de negocio, consideramos que estas filas del dataset poseen inconsistencias, ya que a la edad de 10 años no es normal que se den este tipo de situaciones. Hay casos excepcionales, pero consideramos que es mejor eliminar estas filas del dataset."
   ]
  },
  {
   "cell_type": "code",
   "execution_count": null,
   "metadata": {},
   "outputs": [],
   "source": [
    "flightsDf = flightsDf.drop(lessThan10.index)\n",
    "flightsDf"
   ]
  },
  {
   "cell_type": "markdown",
   "metadata": {},
   "source": [
    "## Plots"
   ]
  },
  {
   "cell_type": "code",
   "execution_count": null,
   "metadata": {},
   "outputs": [],
   "source": [
    "for column in ['Age', 'Flight Distance']:\n",
    "    plotHistogram(flightsDf, column)"
   ]
  },
  {
   "cell_type": "code",
   "execution_count": null,
   "metadata": {},
   "outputs": [],
   "source": [
    "for delay in ['Departure Delay in Minutes', 'Arrival Delay in Minutes']:\n",
    "    plotHistogram(flightsDf, delay, bins=100, xlim=(0, 200))"
   ]
  },
  {
   "cell_type": "code",
   "execution_count": null,
   "metadata": {
    "scrolled": false
   },
   "outputs": [],
   "source": [
    "# Services\n",
    "services = [\n",
    "    'Inflight wifi service',\n",
    "    'Departure/Arrival time convenient',\n",
    "    'Ease of Online booking',\n",
    "    'Gate location',\n",
    "    'Food and drink',\n",
    "    'Online boarding',\n",
    "    'Seat comfort',\n",
    "    'Inflight entertainment',\n",
    "    'On-board service',\n",
    "    'Leg room service',\n",
    "    'Baggage handling',\n",
    "    'Checkin service',\n",
    "    'Inflight service',\n",
    "    'Cleanliness'\n",
    "]\n",
    "\n",
    "inflightServices = [\n",
    "    'Inflight wifi service',\n",
    "    'Food and drink',\n",
    "    'Seat comfort',\n",
    "    'Inflight entertainment',\n",
    "    'On-board service',\n",
    "    'Leg room service',\n",
    "    'Inflight service',\n",
    "    'Cleanliness'\n",
    "]\n",
    "externalServices = [\n",
    "    'Departure/Arrival time convenient',\n",
    "    'Ease of Online booking',\n",
    "    'Gate location',\n",
    "    'Online boarding',\n",
    "    'Baggage handling',\n",
    "    'Checkin service',\n",
    "]"
   ]
  },
  {
   "cell_type": "markdown",
   "metadata": {},
   "source": [
    "## Groups"
   ]
  },
  {
   "cell_type": "markdown",
   "metadata": {},
   "source": [
    "Realizaremos los siguientes _groupby_ para analizar distintos comportamientos, pero antes de hacer eso primero se agregaran las siguientes columnas al dataset:\n",
    "\n",
    "+ **satisfactionBinary**: para poder contabilizar cuando agrupemos, 1 = satisfied, 0 = dissatisfied.\n",
    "\n",
    "\n",
    "+ **distanceTag**: short, medium, large. La informacion de la clasificacion se obtuvo de [Flight length](https://en.wikipedia.org/wiki/Flight_length).\n",
    "\n",
    "\n",
    "+ **ageTag**: youngAdult, adult, senior. Para tener clasificadas las edades de los pasajeros.\n",
    "\n",
    "\n",
    "+ **takeOffDelay**: Yes/No.\n",
    "\n",
    "\n",
    "+ **landDelay**: Yes/No.\n",
    "\n",
    "En base a estas nuevas columnas se realizaran los siguientes agrupamientos:\n",
    "\n",
    "+ **ageTag, distanceTag**: para ver como afecta a la satisfaccion de los pasajeros la duracion del viaje con respecto a su edad.\n",
    "\n",
    "\n",
    "+ **class, distanceTag**: similar al caso anterior pero para las distintas clases de pasajeros.\n",
    "\n",
    "\n",
    "+ **class, takeOffDelay** y **class, landDelay**: para ver que afecta mas a la satisfaccion, si despegar tarde o aterrizar tarde teniendo en cuenta la clase del pasajero\n",
    "\n"
   ]
  },
  {
   "cell_type": "code",
   "execution_count": null,
   "metadata": {},
   "outputs": [],
   "source": [
    "# In order to perform some statistics when we group by some attribute\n",
    "flightsDf['satisfactionBinary'] = flightsDf['satisfaction'].apply(getSatisfactionAsIntFromTag)\n",
    "flightsDf['distanceTag'] = flightsDf['Flight Distance'].apply(getFlightDistanceTag)\n",
    "flightsDf['ageTag'] = flightsDf['Age'].apply(getAgeTags)\n",
    "flightsDf['takeOffDelay'] = flightsDf['Departure Delay in Minutes'].apply(lambda t: 'Yes' if t > 0 else 'No')\n",
    "flightsDf['landDelay'] = flightsDf['Arrival Delay in Minutes'].apply(lambda t: 'Yes' if t > 0 else 'No')"
   ]
  },
  {
   "cell_type": "code",
   "execution_count": null,
   "metadata": {},
   "outputs": [],
   "source": [
    "ageDistanceGroup = flightsDf.groupby(['ageTag', 'distanceTag']).agg({'satisfactionBinary': 'mean'})\n",
    "ageDistanceGroup['satisfaction'] = ageDistanceGroup['satisfactionBinary'].apply(satisfactionAsInt)\n",
    "ageDistanceGroup"
   ]
  },
  {
   "cell_type": "code",
   "execution_count": null,
   "metadata": {},
   "outputs": [],
   "source": [
    "classDistanceGroup = flightsDf.groupby(['Class', 'distanceTag']).agg({'satisfactionBinary': 'mean'})\n",
    "classDistanceGroup['satisfaction'] = classDistanceGroup['satisfactionBinary'].apply(satisfactionAsInt)\n",
    "classDistanceGroup"
   ]
  },
  {
   "cell_type": "code",
   "execution_count": null,
   "metadata": {},
   "outputs": [],
   "source": [
    "# Take off Delay\n",
    "takeOffGroup = flightsDf.groupby(['Class', 'takeOffDelay']).agg({'satisfactionBinary': 'mean'})\n",
    "takeOffGroup"
   ]
  },
  {
   "cell_type": "code",
   "execution_count": null,
   "metadata": {},
   "outputs": [],
   "source": [
    "# Land Delay\n",
    "landGroup = flightsDf.groupby(['Class', 'landDelay']).agg({'satisfactionBinary': 'mean'})\n",
    "landGroup"
   ]
  },
  {
   "cell_type": "markdown",
   "metadata": {},
   "source": [
    "Se puede ver que en ambos casos a los que les disgusta mas tener una demora es a los de las clases Eco y Eco Plus. Para la clase Business en ambos casos la media es similar."
   ]
  }
 ],
 "metadata": {
  "kernelspec": {
   "display_name": "Python 3",
   "language": "python",
   "name": "python3"
  },
  "language_info": {
   "codemirror_mode": {
    "name": "ipython",
    "version": 3
   },
   "file_extension": ".py",
   "mimetype": "text/x-python",
   "name": "python",
   "nbconvert_exporter": "python",
   "pygments_lexer": "ipython3",
   "version": "3.7.6"
  }
 },
 "nbformat": 4,
 "nbformat_minor": 4
}
